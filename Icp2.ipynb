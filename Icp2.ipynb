{
  "nbformat": 4,
  "nbformat_minor": 0,
  "metadata": {
    "colab": {
      "provenance": []
    },
    "kernelspec": {
      "name": "python3",
      "display_name": "Python 3"
    },
    "language_info": {
      "name": "python"
    }
  },
  "cells": [
    {
      "cell_type": "code",
      "source": [
        "class Counter:\n",
        "    count = 0\n",
        "\n",
        "    def __init__(self):\n",
        "        self._count = 0\n",
        "    def increment(self):\n",
        "        self._count += 1\n",
        "        Counter.count += 1\n",
        "\n",
        "    def get_counts(self):\n",
        "        return f\"Instance count: {self._count}, Class count: {Counter.count}\"\n",
        "\n",
        "\n",
        "a = Counter()\n",
        "b = Counter()\n",
        "#increment\n",
        "a.increment()\n",
        "a.increment()\n",
        "b.increment()\n",
        "\n",
        "# Printing the counts\n",
        "print(a.get_counts())  # Output for instance 'a'\n",
        "print(b.get_counts())  # Output for instance 'b'\n"
      ],
      "metadata": {
        "colab": {
          "base_uri": "https://localhost:8080/"
        },
        "id": "HTl8uQ2i_twU",
        "outputId": "be77af2f-2518-4372-b5a7-7e13d31b6fc1"
      },
      "execution_count": 23,
      "outputs": [
        {
          "output_type": "stream",
          "name": "stdout",
          "text": [
            "Instance count: 2, Class count: 3\n",
            "Instance count: 1, Class count: 3\n"
          ]
        }
      ]
    },
    {
      "cell_type": "code",
      "execution_count": 1,
      "metadata": {
        "colab": {
          "base_uri": "https://localhost:8080/"
        },
        "id": "D6ZA8Kk1wqXK",
        "outputId": "8c38bf53-8e48-4be3-ba4d-f050f2599d42"
      },
      "outputs": [
        {
          "output_type": "stream",
          "name": "stdout",
          "text": [
            "sum of 1, 2, 3 is: 6\n",
            "sum of 4, 5, 6, 7 is: 22\n"
          ]
        }
      ],
      "source": [
        "def sum_all(*args):\n",
        "    return sum(args)\n",
        "\n",
        "print(\"sum of 1, 2, 3 is:\", sum_all(1, 2, 3))\n",
        "print(\"sum of 4, 5, 6, 7 is:\", sum_all(4, 5, 6, 7))\n"
      ]
    },
    {
      "cell_type": "code",
      "source": [
        "def first_word(words_list):\n",
        "    words_list.sort()\n",
        "    return words_list[0]\n",
        "\n",
        "students = ['John', 'Maya', 'Jimmy', 'Jessie', 'Aman', 'Kumar']\n",
        "print(\"The first_word from list after sorting is:\", first_word(students))\n"
      ],
      "metadata": {
        "colab": {
          "base_uri": "https://localhost:8080/"
        },
        "id": "i9oYIHbKwwIk",
        "outputId": "1ad702c9-0fbc-4d56-d829-a0aa62fb5929"
      },
      "execution_count": 2,
      "outputs": [
        {
          "output_type": "stream",
          "name": "stdout",
          "text": [
            "The first_word from list after sorting is: Aman\n"
          ]
        }
      ]
    },
    {
      "cell_type": "code",
      "source": [
        "class Employee:\n",
        "    # Class variable to keep track of the number of employees\n",
        "    employee_count = 0\n",
        "\n",
        "    def __init__(self, name, family, salary, department):\n",
        "        self.name = name\n",
        "        self.family = family\n",
        "        self.salary = salary\n",
        "        self.department = department\n",
        "        # Increment the employee count when a new instance is created\n",
        "        Employee.employee_count += 1\n",
        "\n",
        "    @staticmethod\n",
        "    def average_salary(employees):\n",
        "        if not employees:\n",
        "            return 0\n",
        "        total_salary = sum(emp.salary for emp in employees)\n",
        "        return total_salary / len(employees)\n",
        "\n",
        "    def __str__(self):\n",
        "        return f\"Employee(Name: {self.name}, Family: {self.family}, Salary: {self.salary}, Department: {self.department})\"\n",
        "\n",
        "class FulltimeEmployee(Employee):\n",
        "    def __init__(self, name, family, salary, department, benefits):\n",
        "        super().__init__(name, family, salary, department)\n",
        "        self.benefits = benefits\n",
        "\n",
        "    def __str__(self):\n",
        "        return f\"FulltimeEmployee(Name: {self.name}, Family: {self.family}, Salary: {self.salary}, Department: {self.department}, Benefits: {self.benefits})\"\n",
        "\n",
        "# Creating instances of Employee and FulltimeEmployee\n",
        "emp1 = Employee(\"Aman\", \"kumar\", 36000, \"HR\")\n",
        "emp2 = Employee(\"bOb\", \"man\", 40000, \"IT\")\n",
        "emp3 = FulltimeEmployee(\"ham\", \"pop\", 120000, \"Finance\", \"Health Insurance\")\n",
        "\n",
        "# List of employees to calculate average salary\n",
        "employees = [emp1, emp2, emp3]\n",
        "\n",
        "# Print details of each employee\n",
        "print(emp1)\n",
        "print(emp2)\n",
        "print(emp3)\n",
        "\n",
        "# Calculate and print average salary\n",
        "average_salary = Employee.average_salary(employees)\n",
        "print(f\"Average Salary: {average_salary}\")\n",
        "\n",
        "# Print the total number of employees\n",
        "print(f\"Total Number of Employees: {Employee.employee_count}\")"
      ],
      "metadata": {
        "colab": {
          "base_uri": "https://localhost:8080/"
        },
        "id": "Orbk_EWh3xu0",
        "outputId": "3e6b121b-1b96-48bc-ae3d-1c5b808cdafa"
      },
      "execution_count": 12,
      "outputs": [
        {
          "output_type": "stream",
          "name": "stdout",
          "text": [
            "Employee(Name: Aman, Family: kumar, Salary: 36000, Department: HR)\n",
            "Employee(Name: bOb, Family: man, Salary: 40000, Department: IT)\n",
            "FulltimeEmployee(Name: ham, Family: pop, Salary: 120000, Department: Finance, Benefits: Health Insurance)\n",
            "Average Salary: 65333.333333333336\n",
            "Total Number of Employees: 3\n"
          ]
        }
      ]
    }
  ]
}