{
  "nbformat": 4,
  "nbformat_minor": 0,
  "metadata": {
    "colab": {
      "provenance": [],
      "gpuType": "T4"
    },
    "kernelspec": {
      "name": "python3",
      "display_name": "Python 3"
    },
    "language_info": {
      "name": "python"
    }
  },
  "cells": [
    {
      "cell_type": "code",
      "execution_count": 12,
      "metadata": {
        "id": "BA2PRzAfZwyH"
      },
      "outputs": [],
      "source": [
        "from pyspark import SparkContext\n",
        "\n",
        "sc = SparkContext(\"local\", \"Natural Numbers\")\n",
        "nums_rdd = sc.parallelize(range(1, 16))\n",
        "\n"
      ]
    },
    {
      "cell_type": "code",
      "source": [
        "print(nums_rdd.collect())  # Show elements\n",
        "print(nums_rdd.getNumPartitions())  # Show number of partitions"
      ],
      "metadata": {
        "colab": {
          "base_uri": "https://localhost:8080/"
        },
        "id": "xRbe7dSeZ-Wu",
        "outputId": "5a440f67-158f-47af-a3f7-e8bf7dc934fa"
      },
      "execution_count": 13,
      "outputs": [
        {
          "output_type": "stream",
          "name": "stdout",
          "text": [
            "[1, 2, 3, 4, 5, 6, 7, 8, 9, 10, 11, 12, 13, 14, 15]\n",
            "1\n"
          ]
        }
      ]
    },
    {
      "cell_type": "code",
      "source": [
        "# Used to print the first element in the list\n",
        "first_num = nums_rdd.first()\n",
        "print(\"First element:\", first_num)\n"
      ],
      "metadata": {
        "colab": {
          "base_uri": "https://localhost:8080/"
        },
        "id": "ocKbTi_gabl2",
        "outputId": "06a8e9ac-4d3b-490a-9c5b-462b8adfeb61"
      },
      "execution_count": 14,
      "outputs": [
        {
          "output_type": "stream",
          "name": "stdout",
          "text": [
            "First element: 1\n"
          ]
        }
      ]
    },
    {
      "cell_type": "code",
      "source": [
        "even_rdd = nums_rdd.filter(lambda x: x % 2 == 0)\n",
        "print(\"Even Numbers:\",even_rdd.collect())"
      ],
      "metadata": {
        "colab": {
          "base_uri": "https://localhost:8080/"
        },
        "id": "ryOV_xjeahO6",
        "outputId": "b8393179-463f-4afb-8e38-69345fe824a1"
      },
      "execution_count": 16,
      "outputs": [
        {
          "output_type": "stream",
          "name": "stdout",
          "text": [
            "Even Numbers: [2, 4, 6, 8, 10, 12, 14]\n"
          ]
        }
      ]
    },
    {
      "cell_type": "code",
      "source": [
        "squared_rdd = nums_rdd.map(lambda x: x ** 2)\n",
        "print(\"Squared_num:\",squared_rdd.collect())"
      ],
      "metadata": {
        "colab": {
          "base_uri": "https://localhost:8080/"
        },
        "id": "j_1EU11NaqTi",
        "outputId": "2748a5bc-7531-4850-ee57-dea3fe92fbde"
      },
      "execution_count": 17,
      "outputs": [
        {
          "output_type": "stream",
          "name": "stdout",
          "text": [
            "Squared_num: [1, 4, 9, 16, 25, 36, 49, 64, 81, 100, 121, 144, 169, 196, 225]\n"
          ]
        }
      ]
    },
    {
      "cell_type": "code",
      "source": [
        "total_sum = nums_rdd.reduce(lambda x, y: x + y)\n",
        "print(\"Sum of nums:\",total_sum)"
      ],
      "metadata": {
        "colab": {
          "base_uri": "https://localhost:8080/"
        },
        "id": "rTeXA7l_a6i2",
        "outputId": "3efd5bd9-bc03-4aa3-aa15-56665bc90bff"
      },
      "execution_count": 19,
      "outputs": [
        {
          "output_type": "stream",
          "name": "stdout",
          "text": [
            "Sum of nums: 120\n"
          ]
        }
      ]
    },
    {
      "cell_type": "code",
      "source": [
        "nums_rdd.saveAsTextFile(\"natural_numbers.txt\")"
      ],
      "metadata": {
        "id": "kQTpYCp5a_Al"
      },
      "execution_count": 20,
      "outputs": []
    },
    {
      "cell_type": "code",
      "source": [
        "more_nums_rdd = sc.parallelize([16, 17, 18, 19, 20])\n",
        "combined_rdd = nums_rdd.union(more_nums_rdd)\n",
        "print(\"Combined_nums:\",combined_rdd.collect())"
      ],
      "metadata": {
        "colab": {
          "base_uri": "https://localhost:8080/"
        },
        "id": "L9rzxr-lbE4d",
        "outputId": "1963ddc9-1e58-4e84-df0a-a2e14a78c7bf"
      },
      "execution_count": 23,
      "outputs": [
        {
          "output_type": "stream",
          "name": "stdout",
          "text": [
            "Combined_nums: [1, 2, 3, 4, 5, 6, 7, 8, 9, 10, 11, 12, 13, 14, 15, 16, 17, 18, 19, 20]\n"
          ]
        }
      ]
    },
    {
      "cell_type": "code",
      "source": [
        "cartesian_rdd = nums_rdd.cartesian(more_nums_rdd)\n",
        "print(\"Cartesian Product:\",cartesian_rdd.collect())"
      ],
      "metadata": {
        "colab": {
          "base_uri": "https://localhost:8080/"
        },
        "id": "Q14lYdMnbHqV",
        "outputId": "5e3806fc-318c-4748-8e8c-6c817e89c1f1"
      },
      "execution_count": 24,
      "outputs": [
        {
          "output_type": "stream",
          "name": "stdout",
          "text": [
            "Cartesian Product: [(1, 16), (1, 17), (1, 18), (1, 19), (1, 20), (2, 16), (2, 17), (2, 18), (2, 19), (2, 20), (3, 16), (3, 17), (3, 18), (3, 19), (3, 20), (4, 16), (4, 17), (4, 18), (4, 19), (4, 20), (5, 16), (5, 17), (5, 18), (5, 19), (5, 20), (6, 16), (6, 17), (6, 18), (6, 19), (6, 20), (7, 16), (7, 17), (7, 18), (7, 19), (7, 20), (8, 16), (8, 17), (8, 18), (8, 19), (8, 20), (9, 16), (9, 17), (9, 18), (9, 19), (9, 20), (10, 16), (10, 17), (10, 18), (10, 19), (10, 20), (11, 16), (11, 17), (11, 18), (11, 19), (11, 20), (12, 16), (12, 17), (12, 18), (12, 19), (12, 20), (13, 16), (13, 17), (13, 18), (13, 19), (13, 20), (14, 16), (14, 17), (14, 18), (14, 19), (14, 20), (15, 16), (15, 17), (15, 18), (15, 19), (15, 20)]\n"
          ]
        }
      ]
    },
    {
      "cell_type": "code",
      "source": [
        "dict_rdd = sc.parallelize([{\"name\": \"Aman\", \"age\": 20},\n",
        "                           {\"name\": \"Bobby\", \"age\": 21},\n",
        "                           {\"name\": \"Ucm\", \"age\": 25}])\n",
        "print(\"Dictionary RDD:\",dict_rdd.collect())"
      ],
      "metadata": {
        "colab": {
          "base_uri": "https://localhost:8080/"
        },
        "id": "1nA3oyiBbJz_",
        "outputId": "738c7792-c953-4319-bd0a-a697d912623a"
      },
      "execution_count": 32,
      "outputs": [
        {
          "output_type": "stream",
          "name": "stdout",
          "text": [
            "Dictionary RDD: [{'name': 'Aman', 'age': 20}, {'name': 'Bobby', 'age': 21}, {'name': 'Ucm', 'age': 25}]\n"
          ]
        }
      ]
    },
    {
      "cell_type": "code",
      "source": [
        "count_rdd = dict_rdd.flatMap(lambda x: x.items()).map(lambda x: (x[0], 1)).reduceByKey(lambda x, y: x + y)\n",
        "print(count_rdd.collect())"
      ],
      "metadata": {
        "colab": {
          "base_uri": "https://localhost:8080/"
        },
        "id": "inly9XIWbL-7",
        "outputId": "be71caed-c652-4b38-c477-2dc27aa2e460"
      },
      "execution_count": 33,
      "outputs": [
        {
          "output_type": "stream",
          "name": "stdout",
          "text": [
            "[('name', 3), ('age', 3)]\n"
          ]
        }
      ]
    },
    {
      "cell_type": "code",
      "source": [
        "file_rdd = sc.textFile(\"file1.txt\").union(sc.textFile(\"file2.txt\"))\n",
        "print(file_rdd.collect())"
      ],
      "metadata": {
        "colab": {
          "base_uri": "https://localhost:8080/"
        },
        "id": "SH_Q0huzbPKC",
        "outputId": "f40f12ca-5d80-4278-cc51-7f04306fec9d"
      },
      "execution_count": 36,
      "outputs": [
        {
          "output_type": "stream",
          "name": "stdout",
          "text": [
            "['Aman', 'Kumar', 'Mushnam', 'Hyderabd', 'Hello', 'World', 'It ', 'seems', 'Good']\n"
          ]
        }
      ]
    },
    {
      "cell_type": "code",
      "source": [
        "print(file_rdd.take(5))"
      ],
      "metadata": {
        "colab": {
          "base_uri": "https://localhost:8080/"
        },
        "id": "Jvw9pwUecCVj",
        "outputId": "4758a14f-db07-4a4b-a1e8-6eeb6b273e90"
      },
      "execution_count": 37,
      "outputs": [
        {
          "output_type": "stream",
          "name": "stdout",
          "text": [
            "['Aman', 'Kumar', 'Mushnam', 'Hyderabd', 'Hello']\n"
          ]
        }
      ]
    },
    {
      "cell_type": "code",
      "source": [
        "from pyspark.sql import SparkSession\n",
        "\n",
        "spark = SparkSession.builder.appName(\"DataFrame and Dataset\").getOrCreate()\n",
        "data = [(1, \"Aman\"), (2, \"Bobby\"), (3, \"Ucm\")]\n",
        "columns = [\"id\", \"name\"]\n",
        "df = spark.createDataFrame(data, columns)\n",
        "\n",
        "# Show DataFrame\n",
        "df.show()"
      ],
      "metadata": {
        "colab": {
          "base_uri": "https://localhost:8080/"
        },
        "id": "vbNOFN3Qhclg",
        "outputId": "ad54aa6b-a03a-4c59-f47b-1f3559513e25"
      },
      "execution_count": 39,
      "outputs": [
        {
          "output_type": "stream",
          "name": "stdout",
          "text": [
            "+---+-----+\n",
            "| id| name|\n",
            "+---+-----+\n",
            "|  1| Aman|\n",
            "|  2|Bobby|\n",
            "|  3|  Ucm|\n",
            "+---+-----+\n",
            "\n"
          ]
        }
      ]
    },
    {
      "cell_type": "code",
      "source": [
        "# RDD Example\n",
        "rdd_example = sc.parallelize([1, 2, 3, 4])\n",
        "print(\"RDD:\", rdd_example.collect())\n",
        "\n",
        "# DataFrame Example\n",
        "df_example = spark.createDataFrame([(1, \"Aman\"), (2, \"Bobby\"), (3, \"Ucm\")], [\"id\", \"name\"])\n",
        "df_example.show()\n",
        "\n",
        "# In PySpark, DataFrame is already a Dataset"
      ],
      "metadata": {
        "colab": {
          "base_uri": "https://localhost:8080/"
        },
        "id": "ppDHbOgOhk3l",
        "outputId": "1d3c50d2-4a20-4003-88e3-bdf45fa66944"
      },
      "execution_count": 41,
      "outputs": [
        {
          "output_type": "stream",
          "name": "stdout",
          "text": [
            "RDD: [1, 2, 3, 4]\n",
            "+---+-----+\n",
            "| id| name|\n",
            "+---+-----+\n",
            "|  1| Aman|\n",
            "|  2|Bobby|\n",
            "|  3|  Ucm|\n",
            "+---+-----+\n",
            "\n"
          ]
        }
      ]
    }
  ]
}