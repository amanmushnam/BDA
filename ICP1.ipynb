{
  "nbformat": 4,
  "nbformat_minor": 0,
  "metadata": {
    "colab": {
      "provenance": []
    },
    "kernelspec": {
      "name": "python3",
      "display_name": "Python 3"
    },
    "language_info": {
      "name": "python"
    }
  },
  "cells": [
    {
      "cell_type": "code",
      "execution_count": null,
      "metadata": {
        "colab": {
          "base_uri": "https://localhost:8080/"
        },
        "id": "nYsA0IIw69f7",
        "outputId": "293e77b0-6855-43eb-811a-0df323adc28d"
      },
      "outputs": [
        {
          "output_type": "stream",
          "name": "stdout",
          "text": [
            "Mounted at /content/drive\n"
          ]
        }
      ],
      "source": [
        "# Mount Google Drive\n",
        "from google.colab import drive\n",
        "drive.mount ('/content/drive')"
      ]
    },
    {
      "cell_type": "code",
      "source": [
        "string = list(input(\"Enter a string: \"))\n",
        "del string[2]\n",
        "string.reverse()\n",
        "result = ''.join(string)\n",
        "print(result)"
      ],
      "metadata": {
        "colab": {
          "base_uri": "https://localhost:8080/"
        },
        "id": "bZZZVFnFWlA2",
        "outputId": "a53e1971-0797-4d99-d574-8e3b75b27a2a"
      },
      "execution_count": null,
      "outputs": [
        {
          "output_type": "stream",
          "name": "stdout",
          "text": [
            "Enter a string: python\n",
            "nohyp\n"
          ]
        }
      ]
    },
    {
      "cell_type": "code",
      "source": [
        "num1 = float(input(\"Enter the first number: \"))\n",
        "num2 = float (input (\"Enter the second number:\"))\n",
        "addition = num1 + num2\n",
        "subtraction = num1 - num2\n",
        "multiplication = num1 * num2\n",
        "division = num1 / num2\n",
        "print(\"Addition:\", addition)\n",
        "print(\"Subtraction:\", subtraction)\n",
        "print(\"Multiplication:\", multiplication)\n",
        "print(\"Division:\",division)"
      ],
      "metadata": {
        "colab": {
          "base_uri": "https://localhost:8080/"
        },
        "id": "e9zYDOjTWtt2",
        "outputId": "93e3dcd7-924e-4d72-e74e-b611b0d858c3"
      },
      "execution_count": null,
      "outputs": [
        {
          "output_type": "stream",
          "name": "stdout",
          "text": [
            "Enter the first number: 50\n",
            "Enter the second number:56\n",
            "Addition: 106.0\n",
            "Subtraction: -6.0\n",
            "Multiplication: 2800.0\n",
            "Division: 0.8928571428571429\n"
          ]
        }
      ]
    },
    {
      "cell_type": "code",
      "source": [
        "sentence = input(\"Enter a sentence: \")\n",
        "updated_sentence = sentence. replace(\"python\", \"pythons\")\n",
        "print(updated_sentence)"
      ],
      "metadata": {
        "colab": {
          "base_uri": "https://localhost:8080/"
        },
        "id": "dRbgsuB-XG6C",
        "outputId": "7cb57fce-548f-4dbd-acba-0f24ebe11d89"
      },
      "execution_count": null,
      "outputs": [
        {
          "output_type": "stream",
          "name": "stdout",
          "text": [
            "Enter a sentence: I love playing with python\n",
            "I love playing with pythons\n"
          ]
        }
      ]
    },
    {
      "cell_type": "code",
      "source": [
        "score = int(input(\"Enter your score: \"))\n",
        "if score >= 90:\n",
        " grade = \"A\"\n",
        "elif score >= 80:\n",
        " grade = \"B\"\n",
        "elif score >= 70:\n",
        " grade = \"C\"\n",
        "elif score >= 60:\n",
        " grade = \"D\"\n",
        "else:\n",
        " grade = \"F\"\n",
        "print(\"Your grade is:\",grade)"
      ],
      "metadata": {
        "colab": {
          "base_uri": "https://localhost:8080/"
        },
        "id": "G-GgMKawXhMU",
        "outputId": "844ac6cb-33d9-4287-8cfa-b9a7d9c3db04"
      },
      "execution_count": null,
      "outputs": [
        {
          "output_type": "stream",
          "name": "stdout",
          "text": [
            "Enter your score: 92\n",
            "Your grade is: A\n"
          ]
        }
      ]
    },
    {
      "cell_type": "code",
      "source": [
        "x = [23, 'Python', 23.98]\n",
        "print(x)\n",
        "types = [type(i) for i in x]\n",
        "print(types)"
      ],
      "metadata": {
        "colab": {
          "base_uri": "https://localhost:8080/"
        },
        "id": "1G3BjaHIYKJN",
        "outputId": "0728d821-7117-4bb9-e575-bea399cc4665"
      },
      "execution_count": null,
      "outputs": [
        {
          "output_type": "stream",
          "name": "stdout",
          "text": [
            "[23, 'Python', 23.98]\n",
            "[<class 'int'>, <class 'str'>, <class 'float'>]\n"
          ]
        }
      ]
    },
    {
      "cell_type": "code",
      "source": [
        "IT_companies = {'Facebook', 'Google', 'Microsoft', 'Apple', 'IBM', 'Oracle', 'Amazon'}\n",
        "A = {19, 22, 24, 20, 25, 26}\n",
        "B = {19, 22, 20, 25, 26, 24, 28, 27}\n",
        "age = [22, 19, 24, 25, 26, 24, 25, 24]\n",
        "\n",
        "print(\"Length of Companies:\", len(IT_companies))\n",
        "\n",
        "\n",
        "IT_companies.add('Twitter')\n",
        "print(\"Companies after adding 'Twitter':\", IT_companies)\n",
        "\n",
        "\n",
        "IT_companies.update({'TCS', 'Infosys', 'Wipro'})\n",
        "print(\"Companies after adding multiple companies:\", IT_companies)\n",
        "\n",
        "\n",
        "IT_companies.remove('Oracle')\n",
        "print(\"Companies after adding 'Oracle':\", IT_companies)\n",
        "\n",
        "IT_companies.discard('NonExistentCompany')\n",
        "\n",
        "A_union_B = A.union(B)\n",
        "print(\"Union of A and B:\", A_union_B)\n",
        "\n",
        "\n",
        "A_intersection_B = A.intersection(B)\n",
        "print(\"Intersection of A and B:\", A_intersection_B)\n",
        "\n",
        "\n",
        "is_subset = A.issubset(B)\n",
        "print(\"Is A a subset of B?\", is_subset)\n",
        "\n",
        "\n",
        "are_disjoint = A.isdisjoint(B)\n",
        "print(\"Are A and B disjoint?\", are_disjoint)\n",
        "\n",
        "\n",
        "A.update(B)\n",
        "B.update(A)\n",
        "print(\"A after joining with B:\", A)\n",
        "print(\"B after joining with A:\", B)\n",
        "\n",
        "A_symmetric_difference_B = A.symmetric_difference(B)\n",
        "print(\"Symmetric difference between A and B:\", A_symmetric_difference_B)\n",
        "del A\n",
        "del B\n",
        "age_set = set(age)\n",
        "print(\"Original list length:\", len(age))\n",
        "print(\"Set length:\", len(age_set))\n"
      ],
      "metadata": {
        "colab": {
          "base_uri": "https://localhost:8080/"
        },
        "id": "Dp96iu-rYtZK",
        "outputId": "ecf047bd-75bc-4909-e769-9922ad4df7da"
      },
      "execution_count": null,
      "outputs": [
        {
          "output_type": "stream",
          "name": "stdout",
          "text": [
            "Length of Companies: 7\n",
            "Companies after adding 'Twitter': {'Twitter', 'Microsoft', 'Oracle', 'Facebook', 'Apple', 'Amazon', 'Google', 'IBM'}\n",
            "Companies after adding multiple companies: {'Twitter', 'Microsoft', 'Facebook', 'Apple', 'Amazon', 'Infosys', 'TCS', 'Oracle', 'Google', 'Wipro', 'IBM'}\n",
            "Companies after adding 'Oracle': {'Twitter', 'Microsoft', 'Facebook', 'Apple', 'Amazon', 'Infosys', 'TCS', 'Google', 'Wipro', 'IBM'}\n",
            "Union of A and B: {19, 20, 22, 24, 25, 26, 27, 28}\n",
            "Intersection of A and B: {19, 20, 22, 24, 25, 26}\n",
            "Is A a subset of B? True\n",
            "Are A and B disjoint? False\n",
            "A after joining with B: {19, 20, 22, 24, 25, 26, 27, 28}\n",
            "B after joining with A: {19, 20, 22, 24, 25, 26, 27, 28}\n",
            "Symmetric difference between A and B: set()\n",
            "Original list length: 8\n",
            "Set length: 5\n"
          ]
        }
      ]
    }
  ]
}